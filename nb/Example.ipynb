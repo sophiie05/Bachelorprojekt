{
 "cells": [
  {
   "cell_type": "code",
   "execution_count": 1,
   "id": "acceptable-words",
   "metadata": {},
   "outputs": [],
   "source": [
    "from rich import print\n",
    "import h5py\n",
    "import matplotlib.pyplot as plt\n",
    "import mne\n",
    "import numpy as np\n",
    "import os\n",
    "import pyxdf\n",
    "import yaml"
   ]
  },
  {
   "cell_type": "code",
   "execution_count": 2,
   "id": "73133fed-64ab-4215-9e9d-405ec935438f",
   "metadata": {},
   "outputs": [
    {
     "data": {
      "text/html": [
       "<pre style=\"white-space:pre;overflow-x:auto;line-height:normal;font-family:Menlo,'DejaVu Sans Mono',consolas,'Courier New',monospace\"><span style=\"font-weight: bold\">{</span><span style=\"color: #008000; text-decoration-color: #008000\">'projectName'</span>: <span style=\"color: #008000; text-decoration-color: #008000\">'template-project'</span>, <span style=\"color: #008000; text-decoration-color: #008000\">'rawDataDir'</span>: <span style=\"color: #008000; text-decoration-color: #008000\">'/home/user/raw'</span>, <span style=\"color: #008000; text-decoration-color: #008000\">'subjectN'</span>: <span style=\"color: #008080; text-decoration-color: #008080; font-weight: bold\">0</span><span style=\"font-weight: bold\">}</span>\n",
       "</pre>\n"
      ],
      "text/plain": [
       "\u001b[1m{\u001b[0m\u001b[32m'projectName'\u001b[0m: \u001b[32m'template-project'\u001b[0m, \u001b[32m'rawDataDir'\u001b[0m: \u001b[32m'/home/user/raw'\u001b[0m, \u001b[32m'subjectN'\u001b[0m: \u001b[1;36m0\u001b[0m\u001b[1m}\u001b[0m\n"
      ]
     },
     "metadata": {},
     "output_type": "display_data"
    }
   ],
   "source": [
    "with open(\"../config.yml\", \"r\") as f:\n",
    "    conf = yaml.safe_load(f)\n",
    "print(conf)"
   ]
  }
 ],
 "metadata": {
  "kernelspec": {
   "display_name": "Python 3",
   "language": "python",
   "name": "python3"
  },
  "language_info": {
   "codemirror_mode": {
    "name": "ipython",
    "version": 3
   },
   "file_extension": ".py",
   "mimetype": "text/x-python",
   "name": "python",
   "nbconvert_exporter": "python",
   "pygments_lexer": "ipython3",
   "version": "3.10.1"
  }
 },
 "nbformat": 4,
 "nbformat_minor": 5
}
